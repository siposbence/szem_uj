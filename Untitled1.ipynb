{
 "cells": [
  {
   "cell_type": "code",
   "execution_count": 19,
   "id": "active-selection",
   "metadata": {},
   "outputs": [],
   "source": [
    "import cv2\n",
    "import sys\n",
    "import numpy as np\n",
    "import face_recognition\n",
    "import screeninfo\n",
    "import random\n",
    "import time \n",
    "import glob\n",
    "\n",
    "class watch_me:   \n",
    "    def __init__(self, file_eye = 'szem_2.png', file_pupil = 'pupilla_2.png'):\n",
    "        #self.eye = cv2.cvtColor(cv2.imread(file_eye, cv2.IMREAD_UNCHANGED), cv2.COLOR_RGBA2RGB)\n",
    "        self.eye = cv2.imread(file_eye, cv2.IMREAD_UNCHANGED)\n",
    "        self.pupil = cv2.imread(file_pupil, cv2.IMREAD_UNCHANGED)\n",
    "        print(self.eye.shape)\n",
    "        print(self.pupil.shape)\n",
    "        self.emotion = False\n",
    "        self.current_emotion = \"blink\"\n",
    "        self.type = 0\n",
    "        self.emotion_set = {\"s\":\"sad_1\",\"d\":\"sad_2\",\"l\":\"laugh\",\"b\":\"blink\", \"a\":\"suprised\"}\n",
    "        self.n = 0\n",
    "        self.n_max = 1\n",
    "        self.starting_period = False\n",
    "        self.start_x = 0.5\n",
    "        self.start_y = 0.5\n",
    "        self.smoothing = 15\n",
    "        self.new_x = False\n",
    "        \n",
    "        \n",
    "    def start_emotion(self, character):\n",
    "        print(\"start\"+character)\n",
    "        if character in ['s','d','l','b','a']:\n",
    "            self.emotion = True\n",
    "            if self.n == 0:\n",
    "                self.starting_period = True\n",
    "                self.current_emotion = self.emotion_set[character]\n",
    "                self.n_max = len(glob.glob(self.current_emotion+\"/*\"))\n",
    "\n",
    "    def draw_eye(self, x, y, emo = None):\n",
    "        if emo\n",
    "        if (self.emotion and not self.starting_period):\n",
    "            self.n+=1\n",
    "            if self.n>self.n_max:\n",
    "                self.n = 0\n",
    "                self.emotion = False\n",
    "                self.new_x = True\n",
    "                print(self.new_x)\n",
    "                image = cv2.imread(self.current_emotion+\"/\"+str(self.n_max)+\".jpg\")\n",
    "            else:\n",
    "                image = cv2.imread(self.current_emotion+\"/\"+str(self.n)+\".jpg\")\n",
    "        else:\n",
    "            if self.starting_period:\n",
    "                if self.n == 0:\n",
    "                    self.start_x = x\n",
    "                    self.start_y = y\n",
    "                self.n+=1\n",
    "                x =  self.start_x*(self.smoothing-self.n)/self.smoothing \n",
    "                y =  (self.n)/self.smoothing+self.start_y*(self.smoothing-self.n)/self.smoothing\n",
    "                #x,y = int(x), int(y) #offset\n",
    "                if self.n >self.smoothing:\n",
    "                    self.starting_period = False\n",
    "            pupilla = np.roll(np.roll(self.pupil, int((x-0.5)*400), axis=1), int((y-0.5)*400), axis=0)\n",
    "            #pupilla = np.roll(self.pupil, y, axis=0)\n",
    "\n",
    "            ret,mask = cv2.threshold(pupilla[:,:,3],25,255,cv2.THRESH_BINARY)\n",
    "            ret,mask1 = cv2.threshold(pupilla[:,:,3],25,255,cv2.THRESH_BINARY_INV )\n",
    "            #pupilla = cv2.cvtColor(pupilla, cv2.COLOR_RGBA2RGB)\n",
    "            B, G, R, A = cv2.split((np.array(cv2.bitwise_and(self.eye,self.eye,mask = mask1))+np.array(cv2.bitwise_and(pupilla,pupilla,mask = mask))))\n",
    "            alpha = A / 255\n",
    "\n",
    "            R = (255 * (1 - alpha) + R * alpha).astype(np.uint8)\n",
    "            G = (255 * (1 - alpha) + G * alpha).astype(np.uint8)\n",
    "            B = (255 * (1 - alpha) + B * alpha).astype(np.uint8)\n",
    "\n",
    "            image = cv2.merge((B, G, R))\n",
    "        \n",
    "        if self.new_x:\n",
    "            self.new_x = False\n",
    "            return image, True\n",
    "        else:\n",
    "            return image, False\n"
   ]
  },
  {
   "cell_type": "code",
   "execution_count": 20,
   "id": "brave-stock",
   "metadata": {},
   "outputs": [
    {
     "name": "stdout",
     "output_type": "stream",
     "text": [
      "(1000, 1000, 4)\n",
      "(1000, 1000, 4)\n"
     ]
    }
   ],
   "source": [
    "w = watch_me()"
   ]
  },
  {
   "cell_type": "code",
   "execution_count": 29,
   "id": "destroyed-receptor",
   "metadata": {},
   "outputs": [
    {
     "data": {
      "text/plain": [
       "<matplotlib.image.AxesImage at 0x7fbf1436ce10>"
      ]
     },
     "execution_count": 29,
     "metadata": {},
     "output_type": "execute_result"
    },
    {
     "data": {
      "image/png": "[encoded data removed]",
      "text/plain": [
       "<Figure size 432x288 with 1 Axes>"
      ]
     },
     "metadata": {
      "needs_background": "light"
     },
     "output_type": "display_data"
    }
   ],
   "source": [
    "import matplotlib.pyplot as plt\n",
    "\n",
    "\n",
    "im, ret = w.draw_eye(0.5, 0.7)\n",
    "plt.imshow(im)"
   ]
  },
  {
   "cell_type": "code",
   "execution_count": 31,
   "id": "immune-governor",
   "metadata": {},
   "outputs": [
    {
     "name": "stdout",
     "output_type": "stream",
     "text": [
      "18.5 ms ± 340 µs per loop (mean ± std. dev. of 7 runs, 100 loops each)\n"
     ]
    }
   ],
   "source": [
    "%%timeit\n",
    "w.draw_eye(0.5, 0.7)"
   ]
  },
  {
   "cell_type": "code",
   "execution_count": null,
   "id": "arctic-clark",
   "metadata": {},
   "outputs": [],
   "source": []
  },
  {
   "cell_type": "code",
   "execution_count": 46,
   "id": "tested-gabriel",
   "metadata": {},
   "outputs": [
    {
     "ename": "SystemExit",
     "evalue": "",
     "output_type": "error",
     "traceback": [
      "An exception has occurred, use %tb to see the full traceback.\n",
      "\u001b[0;31mSystemExit\u001b[0m\n"
     ]
    }
   ],
   "source": [
    "import pygame, sys\n",
    "\n",
    "file_eye = 'szem_2.png'\n",
    "file_pupil = 'pupilla_2.png'\n",
    "\n",
    "pygame.init()\n",
    "\n",
    "window = pygame.display.set_mode((1600, 800))\n",
    "background = pygame.Surface((window.get_size()))\n",
    "background.fill((255, 255, 255))\n",
    "image = pygame.image.load(file_eye)\n",
    "image = pygame.transform.scale(image, (800, 800))\n",
    "image2 = pygame.image.load(file_pupil)\n",
    "image2 = pygame.transform.scale(image2, (800, 800))\n",
    "\n",
    "i = 0\n",
    "while True:\n",
    "    for event in pygame.event.get():\n",
    "        if event.type == pygame.QUIT:\n",
    "            pygame.quit()\n",
    "            sys.exit()\n",
    "\n",
    "    #image.set_alpha(i)\n",
    "    #image2.set_alpha(i)\n",
    "\n",
    "    window.fill((255, 255, 255))\n",
    "    #window.blit(background, background.get_rect())\n",
    "    \n",
    "    window.blit(pygame.transform.flip(image,  True, False), (0,0))\n",
    "    window.blit(pygame.transform.flip(image2,  True, False), (100,20))\n",
    "    \n",
    "    window.blit(image, (800,0))\n",
    "    window.blit(image2, (900,20))\n",
    "    \n",
    "\n",
    "\n",
    "    pygame.display.update()\n",
    "    pygame.time.Clock().tick(60)"
   ]
  },
  {
   "cell_type": "code",
   "execution_count": null,
   "id": "prime-standard",
   "metadata": {},
   "outputs": [],
   "source": [
    "from pygame.locals import KEYDOWN, K_ESCAPE, K_q, K_u\n",
    "import pygame\n",
    "import cv2\n",
    "import sys\n",
    "import numpy as np \n",
    "import os \n",
    "from eyes import eyes\n",
    "from face2coord import face2coord\n",
    "import time \n",
    "from geomdl import fitting\n",
    "\n",
    "\n",
    "hh = np.linspace(0.0, 1.0, num=10)**2 #[0.1, 0.5, 0.7, 0.9, 1]\n",
    "hhh = 1-np.linspace(0.0, 1.0, num=10)**2 #[0.9, 0.5, 0.3, 0.1, 0]\n",
    "\n",
    "class full_eye():\n",
    "    def __init__(self):\n",
    "        file_eye = 'szem_2.png'\n",
    "        file_pupil = 'pupilla_2.png'\n",
    "\n",
    "        window = pygame.display.set_mode((800, 800))\n",
    "        background = pygame.Surface((window.get_size()))\n",
    "        background.fill((255, 255, 255))\n",
    "        image = pygame.image.load(file_eye)\n",
    "        image = pygame.transform.scale(image, (800, 800))\n",
    "        image2 = pygame.image.load(file_pupil)\n",
    "        image2 = pygame.transform.scale(image2, (800, 800))\n",
    "\n",
    "        os.environ[\"SDL_VIDEO_CENTERED\"] = \"1\"\n",
    "        pygame.init()\n",
    "        info = pygame.display.Info()\n",
    "        width, height = (1600, 800) #info.current_w, info.current_h\n",
    "        self.screen = pygame.display.set_mode((width, height), pygame.NOFRAME)\n",
    "        print(width, height)\n",
    "\n",
    "        \n",
    "    def update(self):\n",
    "        self.screen.fill([0, 0, 0])\n",
    "        x,y = self.cam.get_face_coords() \n",
    "        if [x,y] == [0.5, 0.5]:\n",
    "            self.n_noface += 1\n",
    "        else:\n",
    "            self.n_noface = 0\n",
    "            [x,y] = [x,y] + np.random.normal(size = [2])/300\n",
    "            self.coord_list.append([x,y])\n",
    "            self.coord_list.pop(0)\n",
    "        #print(self.coord_list)\n",
    "        curve = fitting.approximate_curve(self.coord_list, 2)\n",
    "        curve.delta = 1/30\n",
    "        x_tmp, y_tmp = np.array(curve.evalpts)[:,0], np.array(curve.evalpts)[:,1]\n",
    "        \n",
    "        for i in range(10):\n",
    "            #x_c, y_c = (self.prev_x*hhh[i]+x*hh[i], self.prev_y*hhh[i]+y*hh[i])\n",
    "            x_c, y_c = x_tmp[20+i], y_tmp[20+i]\n",
    "            pygame.surfarray.blit_array(self.screen, cv2.resize(np.vstack([self.e.simple_eye(x_c, 1-y_c)]*2), (800, 1600)))\n",
    "            pygame.display.update()\n",
    "            time.sleep(0.01)\n",
    "        self.prev_x, self.prev_y = (x, y)\n",
    "    \n",
    "    def kill(self):\n",
    "        pygame.quit()\n",
    "        self.cam.release()\n",
    "\n"
   ]
  }
 ],
 "metadata": {
  "kernelspec": {
   "display_name": "Python 3",
   "language": "python",
   "name": "python3"
  },
  "language_info": {
   "codemirror_mode": {
    "name": "ipython",
    "version": 3
   },
   "file_extension": ".py",
   "mimetype": "text/x-python",
   "name": "python",
   "nbconvert_exporter": "python",
   "pygments_lexer": "ipython3",
   "version": "3.7.4"
  }
 },
 "nbformat": 4,
 "nbformat_minor": 5
}
