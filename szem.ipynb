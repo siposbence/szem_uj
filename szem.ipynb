{
 "cells": [
  {
   "cell_type": "code",
   "execution_count": 1,
   "id": "dutch-woman",
   "metadata": {},
   "outputs": [
    {
     "name": "stdout",
     "output_type": "stream",
     "text": [
      "pygame 2.0.1 (SDL 2.0.14, Python 3.7.4)\n",
      "Hello from the pygame community. https://www.pygame.org/contribute.html\n"
     ]
    }
   ],
   "source": [
    "from pygame.locals import KEYDOWN, K_ESCAPE, K_q, K_u\n",
    "import pygame\n",
    "import cv2\n",
    "import sys\n",
    "import numpy as np \n",
    "import os \n",
    "from eyes import eyes\n",
    "from face2coord import face2coord\n",
    "import time \n",
    "from geomdl import fitting\n",
    "\n",
    "\n",
    "hh = np.linspace(0.0, 1.0, num=10)**2 #[0.1, 0.5, 0.7, 0.9, 1]\n",
    "hhh = 1-np.linspace(0.0, 1.0, num=10)**2 #[0.9, 0.5, 0.3, 0.1, 0]\n",
    "\n",
    "class full_eye():\n",
    "    def __init__(self):\n",
    "        self.e = eyes()\n",
    "        self.cam = face2coord(0, \"none\", 2, \"face\", 0.9)\n",
    "        self.prev_x, self.prev_y = [0.5, 0.5] \n",
    "        self.coord_list = [[0.5,0.51], [0.52,0.52], [0.51,0.51], [0.51,0.53]] \n",
    "        self.n_noface = 0\n",
    "\n",
    "        os.environ[\"SDL_VIDEO_CENTERED\"] = \"1\"\n",
    "        pygame.init()\n",
    "        info = pygame.display.Info()\n",
    "        width, height = (1600, 800) #info.current_w, info.current_h\n",
    "        self.screen = pygame.display.set_mode((width, height), pygame.NOFRAME)\n",
    "        print(width, height)\n",
    "        #pygame.init()\n",
    "        #pygame.display.set_caption(\"OpenCV camera stream on Pygame\")\n",
    "        #screen = pygame.display.set_mode([640, 480])#, pygame.FULLSCREEN)\n",
    "        \n",
    "    def update(self):\n",
    "        self.screen.fill([0, 0, 0])\n",
    "        x,y = self.cam.get_face_coords() \n",
    "        if [x,y] == [0.5, 0.5]:\n",
    "            self.n_noface += 1\n",
    "        else:\n",
    "            self.n_noface = 0\n",
    "            [x,y] = [x,y] + np.random.normal(size = [2])/300\n",
    "            self.coord_list.append([x,y])\n",
    "            self.coord_list.pop(0)\n",
    "        #print(self.coord_list)\n",
    "        curve = fitting.approximate_curve(self.coord_list, 2)\n",
    "        curve.delta = 1/30\n",
    "        x_tmp, y_tmp = np.array(curve.evalpts)[:,0], np.array(curve.evalpts)[:,1]\n",
    "        \n",
    "        for i in range(10):\n",
    "            #x_c, y_c = (self.prev_x*hhh[i]+x*hh[i], self.prev_y*hhh[i]+y*hh[i])\n",
    "            x_c, y_c = x_tmp[20+i], y_tmp[20+i]\n",
    "            pygame.surfarray.blit_array(self.screen, cv2.resize(np.vstack([self.e.simple_eye(x_c, 1-y_c)]*2), (800, 1600)))\n",
    "            pygame.display.update()\n",
    "            time.sleep(0.01)\n",
    "        self.prev_x, self.prev_y = (x, y)\n",
    "    \n",
    "    def kill(self):\n",
    "        pygame.quit()\n",
    "        self.cam.release()\n",
    "\n",
    "\n",
    "#tmp = full_eye()\n"
   ]
  },
  {
   "cell_type": "code",
   "execution_count": 10,
   "id": "medieval-thumb",
   "metadata": {},
   "outputs": [
    {
     "name": "stdout",
     "output_type": "stream",
     "text": [
      "1920 1080\n"
     ]
    },
    {
     "data": {
      "text/plain": [
       "(800, 800, 3)"
      ]
     },
     "execution_count": 10,
     "metadata": {},
     "output_type": "execute_result"
    }
   ],
   "source": [
    "e = eyes()\n",
    "(e.simple_eye(0.5, 0.5)).shape"
   ]
  },
  {
   "cell_type": "code",
   "execution_count": 2,
   "id": "solar-manufacturer",
   "metadata": {
    "scrolled": true
   },
   "outputs": [
    {
     "name": "stdout",
     "output_type": "stream",
     "text": [
      "1920 1080\n",
      "face_recognition\n",
      "1600 800\n",
      "[0.5, 0.5]\n",
      "[0.5, 0.5]\n",
      "[0.5, 0.5]\n",
      "[0.5, 0.5]\n",
      "[0.5, 0.5]\n",
      "[0.5, 0.5]\n",
      "[0.5, 0.5]\n",
      "[0.5, 0.5]\n",
      "[0.5, 0.5]\n",
      "[0.5, 0.5]\n",
      "[0.5, 0.5]\n",
      "[0.5, 0.5]\n",
      "[0.5, 0.5]\n",
      "[0.5, 0.5]\n",
      "[0.5, 0.5]\n",
      "[0.5, 0.5]\n",
      "[0.5, 0.5]\n",
      "[0.5, 0.5]\n",
      "[0.5, 0.5]\n",
      "[0.5, 0.5]\n",
      "[0.5, 0.5]\n",
      "[0.5, 0.5]\n",
      "[0.5, 0.5]\n",
      "(0.7895833333333333, 0.3671875)\n",
      "(0.7604166666666666, 0.5453125)\n",
      "(0.7041666666666667, 0.6015625)\n",
      "(0.6604166666666667, 0.6015625)\n",
      "(0.51875, 0.3859375)\n",
      "(0.43125, 0.2328125)\n",
      "(0.51875, 0.234375)\n",
      "(0.51875, 0.20625)\n",
      "(0.51875, 0.20625)\n",
      "(0.43125, 0.171875)\n",
      "(0.43125, 0.171875)\n",
      "(0.43125, 0.171875)\n",
      "(0.5479166666666667, 0.3203125)\n",
      "(0.5895833333333333, 0.5484375)\n",
      "(0.5895833333333333, 0.6546875)\n",
      "(0.5895833333333333, 0.7609375)\n",
      "(0.5895833333333333, 0.7875)\n",
      "[0.5, 0.5]\n",
      "[0.5, 0.5]\n",
      "[0.5, 0.5]\n",
      "[0.5, 0.5]\n",
      "[0.5, 0.5]\n",
      "[0.5, 0.5]\n",
      "[0.5, 0.5]\n",
      "[0.5, 0.5]\n",
      "[0.5, 0.5]\n",
      "[0.5, 0.5]\n",
      "[0.5, 0.5]\n",
      "[0.5, 0.5]\n",
      "[0.5, 0.5]\n",
      "[0.5, 0.5]\n",
      "[0.5, 0.5]\n",
      "[0.5, 0.5]\n",
      "(0.4895833333333333, 0.3671875)\n",
      "(0.6104166666666667, 0.19375)\n",
      "[0.5, 0.5]\n",
      "[0.5, 0.5]\n",
      "[0.5, 0.5]\n",
      "[0.5, 0.5]\n",
      "[0.5, 0.5]\n",
      "[0.5, 0.5]\n",
      "[0.5, 0.5]\n",
      "[0.5, 0.5]\n",
      "[0.5, 0.5]\n",
      "[0.5, 0.5]\n",
      "[0.5, 0.5]\n",
      "[0.5, 0.5]\n",
      "[0.5, 0.5]\n",
      "[0.5, 0.5]\n",
      "[0.5, 0.5]\n",
      "[0.5, 0.5]\n",
      "[0.5, 0.5]\n",
      "[0.5, 0.5]\n",
      "[0.5, 0.5]\n",
      "[0.5, 0.5]\n",
      "[0.5, 0.5]\n",
      "[0.5, 0.5]\n",
      "[0.5, 0.5]\n",
      "[0.5, 0.5]\n",
      "[0.5, 0.5]\n",
      "[0.5, 0.5]\n",
      "[0.5, 0.5]\n",
      "[0.5, 0.5]\n",
      "[0.5, 0.5]\n",
      "[0.5, 0.5]\n",
      "[0.5, 0.5]\n",
      "[0.5, 0.5]\n",
      "[0.5, 0.5]\n",
      "[0.5, 0.5]\n",
      "[0.5, 0.5]\n",
      "[0.5, 0.5]\n",
      "[0.5, 0.5]\n",
      "[0.5, 0.5]\n",
      "[0.5, 0.5]\n",
      "[0.5, 0.5]\n",
      "[0.5, 0.5]\n",
      "[0.5, 0.5]\n"
     ]
    }
   ],
   "source": [
    "import time \n",
    "tmp = full_eye()\n",
    "for i in range(100):\n",
    "    tmp.update()\n",
    "    #time.sleep(0.1)\n",
    "    \n",
    "tmp.kill()"
   ]
  },
  {
   "cell_type": "code",
   "execution_count": 8,
   "id": "controlling-retreat",
   "metadata": {},
   "outputs": [],
   "source": [
    "tmp.kill()"
   ]
  },
  {
   "cell_type": "code",
   "execution_count": 4,
   "id": "expanded-synthesis",
   "metadata": {},
   "outputs": [
    {
     "data": {
      "image/png": "[encoded data removed]",
      "text/plain": [
       "<Figure size 960x768 with 1 Axes>"
      ]
     },
     "metadata": {
      "needs_background": "light"
     },
     "output_type": "display_data"
    }
   ],
   "source": [
    "from geomdl import fitting\n",
    "from geomdl.visualization import VisMPL as vis\n",
    "\n",
    "# The NURBS Book Ex9.1\n",
    "points = ((0, 0), (3, 4), (-1, 4), (-4, 0), (-4, -3))\n",
    "degree = 2  # cubic curve\n",
    "\n",
    "# Do global curve approximation\n",
    "curve = fitting.approximate_curve(points, degree)\n",
    "\n",
    "# Plot the interpolated curve\n",
    "curve.delta = 0.05\n",
    "curve.vis = vis.VisCurve2D()\n",
    "curve.render()"
   ]
  },
  {
   "cell_type": "code",
   "execution_count": 10,
   "id": "streaming-preserve",
   "metadata": {},
   "outputs": [],
   "source": [
    "points = ((3, 4), (-1, 4), (-4, 0), (-4, -3), (-1, -6))\n",
    "degree = 2  # cubic curve\n",
    "\n",
    "# Do global curve approximation\n",
    "curve2 = fitting.approximate_curve(points, degree)\n",
    "\n",
    "# Plot the interpolated curve\n",
    "curve2.delta = 1/40"
   ]
  },
  {
   "cell_type": "code",
   "execution_count": 12,
   "id": "auburn-personal",
   "metadata": {},
   "outputs": [
    {
     "data": {
      "text/plain": [
       "<matplotlib.collections.PathCollection at 0x7ff99f7038d0>"
      ]
     },
     "execution_count": 12,
     "metadata": {},
     "output_type": "execute_result"
    },
    {
     "data": {
      "image/png": "[encoded data removed]",
      "text/plain": [
       "<Figure size 432x288 with 1 Axes>"
      ]
     },
     "metadata": {
      "needs_background": "light"
     },
     "output_type": "display_data"
    }
   ],
   "source": [
    "import matplotlib.pyplot as plt \n",
    "plt.scatter(np.array(curve.evalpts)[:,0], np.array(curve.evalpts)[:,1])\n",
    "plt.scatter(np.array(curve2.evalpts)[-10:,0], np.array(curve2.evalpts)[-10:,1])\n",
    "x = np.array(((0, 0), (3, 4), (-1, 4), (-4, 0), (-4, -3), (-1, -6)))\n",
    "plt.scatter(x[:,0], x[:,1])"
   ]
  },
  {
   "cell_type": "code",
   "execution_count": 115,
   "id": "native-celebration",
   "metadata": {},
   "outputs": [
    {
     "data": {
      "text/plain": [
       "array([-0.01468143, -0.00871552])"
      ]
     },
     "execution_count": 115,
     "metadata": {},
     "output_type": "execute_result"
    }
   ],
   "source": [
    "np.random.normal(size = [2])/100"
   ]
  },
  {
   "cell_type": "code",
   "execution_count": 1,
   "id": "official-imagination",
   "metadata": {},
   "outputs": [
    {
     "name": "stdout",
     "output_type": "stream",
     "text": [
      "pygame 2.0.1 (SDL 2.0.14, Python 3.7.4)\n",
      "Hello from the pygame community. https://www.pygame.org/contribute.html\n"
     ]
    },
    {
     "data": {
      "text/plain": [
       "<rect(100, 100, 200, 200)>"
      ]
     },
     "execution_count": 1,
     "metadata": {},
     "output_type": "execute_result"
    }
   ],
   "source": [
    "import pygame\n",
    "pygame.init()\n",
    "screen = pygame.display.set_mode((1600, 800)) #x and y are height and width\n",
    "\n",
    "pygame.draw.circle(screen, (0,0,0), (200, 200), 100, 10)"
   ]
  }
 ],
 "metadata": {
  "kernelspec": {
   "display_name": "Python 3",
   "language": "python",
   "name": "python3"
  },
  "language_info": {
   "codemirror_mode": {
    "name": "ipython",
    "version": 3
   },
   "file_extension": ".py",
   "mimetype": "text/x-python",
   "name": "python",
   "nbconvert_exporter": "python",
   "pygments_lexer": "ipython3",
   "version": "3.7.4"
  }
 },
 "nbformat": 4,
 "nbformat_minor": 5
}
